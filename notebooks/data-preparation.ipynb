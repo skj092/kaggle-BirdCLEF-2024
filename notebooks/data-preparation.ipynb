{
 "cells": [
  {
   "cell_type": "code",
   "execution_count": 1,
   "id": "f6e1a981-93f3-494f-97a9-da75bc4679f4",
   "metadata": {},
   "outputs": [],
   "source": [
    "import numpy as np\n",
    "import librosa as lb\n",
    "import librosa.display as lbd\n",
    "import soundfile as sf\n",
    "from  soundfile import SoundFile\n",
    "import pandas as pd\n",
    "from  IPython.display import Audio\n",
    "from pathlib import Path\n",
    "\n",
    "from matplotlib import pyplot as plt\n",
    "\n",
    "from tqdm.notebook import tqdm\n",
    "import joblib, json, re\n",
    "\n",
    "from  sklearn.model_selection  import StratifiedKFold\n",
    "tqdm.pandas()"
   ]
  },
  {
   "cell_type": "code",
   "execution_count": 2,
   "id": "e21cdb55-ab7a-4a42-b183-c6f311defe34",
   "metadata": {},
   "outputs": [
    {
     "data": {
      "text/plain": [
       "(24459, 12)"
      ]
     },
     "execution_count": 2,
     "metadata": {},
     "output_type": "execute_result"
    }
   ],
   "source": [
    "df = pd.read_csv('../data/train_metadata.csv')\n",
    "df.shape"
   ]
  },
  {
   "cell_type": "code",
   "execution_count": 3,
   "id": "0013b606-bd54-43b3-8ab9-35df8f3ef0af",
   "metadata": {},
   "outputs": [
    {
     "data": {
      "text/html": [
       "<div>\n",
       "<style scoped>\n",
       "    .dataframe tbody tr th:only-of-type {\n",
       "        vertical-align: middle;\n",
       "    }\n",
       "\n",
       "    .dataframe tbody tr th {\n",
       "        vertical-align: top;\n",
       "    }\n",
       "\n",
       "    .dataframe thead th {\n",
       "        text-align: right;\n",
       "    }\n",
       "</style>\n",
       "<table border=\"1\" class=\"dataframe\">\n",
       "  <thead>\n",
       "    <tr style=\"text-align: right;\">\n",
       "      <th></th>\n",
       "      <th>primary_label</th>\n",
       "      <th>secondary_labels</th>\n",
       "      <th>type</th>\n",
       "      <th>latitude</th>\n",
       "      <th>longitude</th>\n",
       "      <th>scientific_name</th>\n",
       "      <th>common_name</th>\n",
       "      <th>author</th>\n",
       "      <th>license</th>\n",
       "      <th>rating</th>\n",
       "      <th>url</th>\n",
       "      <th>filename</th>\n",
       "    </tr>\n",
       "  </thead>\n",
       "  <tbody>\n",
       "    <tr>\n",
       "      <th>0</th>\n",
       "      <td>asbfly</td>\n",
       "      <td>[]</td>\n",
       "      <td>['call']</td>\n",
       "      <td>39.2297</td>\n",
       "      <td>118.1987</td>\n",
       "      <td>Muscicapa dauurica</td>\n",
       "      <td>Asian Brown Flycatcher</td>\n",
       "      <td>Matt Slaymaker</td>\n",
       "      <td>Creative Commons Attribution-NonCommercial-Sha...</td>\n",
       "      <td>5.0</td>\n",
       "      <td>https://www.xeno-canto.org/134896</td>\n",
       "      <td>asbfly/XC134896.ogg</td>\n",
       "    </tr>\n",
       "    <tr>\n",
       "      <th>1</th>\n",
       "      <td>asbfly</td>\n",
       "      <td>[]</td>\n",
       "      <td>['song']</td>\n",
       "      <td>51.4030</td>\n",
       "      <td>104.6401</td>\n",
       "      <td>Muscicapa dauurica</td>\n",
       "      <td>Asian Brown Flycatcher</td>\n",
       "      <td>Magnus Hellström</td>\n",
       "      <td>Creative Commons Attribution-NonCommercial-Sha...</td>\n",
       "      <td>2.5</td>\n",
       "      <td>https://www.xeno-canto.org/164848</td>\n",
       "      <td>asbfly/XC164848.ogg</td>\n",
       "    </tr>\n",
       "    <tr>\n",
       "      <th>2</th>\n",
       "      <td>asbfly</td>\n",
       "      <td>[]</td>\n",
       "      <td>['song']</td>\n",
       "      <td>36.3319</td>\n",
       "      <td>127.3555</td>\n",
       "      <td>Muscicapa dauurica</td>\n",
       "      <td>Asian Brown Flycatcher</td>\n",
       "      <td>Stuart Fisher</td>\n",
       "      <td>Creative Commons Attribution-NonCommercial-Sha...</td>\n",
       "      <td>2.5</td>\n",
       "      <td>https://www.xeno-canto.org/175797</td>\n",
       "      <td>asbfly/XC175797.ogg</td>\n",
       "    </tr>\n",
       "    <tr>\n",
       "      <th>3</th>\n",
       "      <td>asbfly</td>\n",
       "      <td>[]</td>\n",
       "      <td>['call']</td>\n",
       "      <td>21.1697</td>\n",
       "      <td>70.6005</td>\n",
       "      <td>Muscicapa dauurica</td>\n",
       "      <td>Asian Brown Flycatcher</td>\n",
       "      <td>vir joshi</td>\n",
       "      <td>Creative Commons Attribution-NonCommercial-Sha...</td>\n",
       "      <td>4.0</td>\n",
       "      <td>https://www.xeno-canto.org/207738</td>\n",
       "      <td>asbfly/XC207738.ogg</td>\n",
       "    </tr>\n",
       "    <tr>\n",
       "      <th>4</th>\n",
       "      <td>asbfly</td>\n",
       "      <td>[]</td>\n",
       "      <td>['call']</td>\n",
       "      <td>15.5442</td>\n",
       "      <td>73.7733</td>\n",
       "      <td>Muscicapa dauurica</td>\n",
       "      <td>Asian Brown Flycatcher</td>\n",
       "      <td>Albert Lastukhin &amp; Sergei Karpeev</td>\n",
       "      <td>Creative Commons Attribution-NonCommercial-Sha...</td>\n",
       "      <td>4.0</td>\n",
       "      <td>https://www.xeno-canto.org/209218</td>\n",
       "      <td>asbfly/XC209218.ogg</td>\n",
       "    </tr>\n",
       "  </tbody>\n",
       "</table>\n",
       "</div>"
      ],
      "text/plain": [
       "  primary_label secondary_labels      type  latitude  longitude  \\\n",
       "0        asbfly               []  ['call']   39.2297   118.1987   \n",
       "1        asbfly               []  ['song']   51.4030   104.6401   \n",
       "2        asbfly               []  ['song']   36.3319   127.3555   \n",
       "3        asbfly               []  ['call']   21.1697    70.6005   \n",
       "4        asbfly               []  ['call']   15.5442    73.7733   \n",
       "\n",
       "      scientific_name             common_name  \\\n",
       "0  Muscicapa dauurica  Asian Brown Flycatcher   \n",
       "1  Muscicapa dauurica  Asian Brown Flycatcher   \n",
       "2  Muscicapa dauurica  Asian Brown Flycatcher   \n",
       "3  Muscicapa dauurica  Asian Brown Flycatcher   \n",
       "4  Muscicapa dauurica  Asian Brown Flycatcher   \n",
       "\n",
       "                              author  \\\n",
       "0                     Matt Slaymaker   \n",
       "1                   Magnus Hellström   \n",
       "2                      Stuart Fisher   \n",
       "3                          vir joshi   \n",
       "4  Albert Lastukhin & Sergei Karpeev   \n",
       "\n",
       "                                             license  rating  \\\n",
       "0  Creative Commons Attribution-NonCommercial-Sha...     5.0   \n",
       "1  Creative Commons Attribution-NonCommercial-Sha...     2.5   \n",
       "2  Creative Commons Attribution-NonCommercial-Sha...     2.5   \n",
       "3  Creative Commons Attribution-NonCommercial-Sha...     4.0   \n",
       "4  Creative Commons Attribution-NonCommercial-Sha...     4.0   \n",
       "\n",
       "                                 url             filename  \n",
       "0  https://www.xeno-canto.org/134896  asbfly/XC134896.ogg  \n",
       "1  https://www.xeno-canto.org/164848  asbfly/XC164848.ogg  \n",
       "2  https://www.xeno-canto.org/175797  asbfly/XC175797.ogg  \n",
       "3  https://www.xeno-canto.org/207738  asbfly/XC207738.ogg  \n",
       "4  https://www.xeno-canto.org/209218  asbfly/XC209218.ogg  "
      ]
     },
     "execution_count": 3,
     "metadata": {},
     "output_type": "execute_result"
    }
   ],
   "source": [
    "df.head()"
   ]
  },
  {
   "cell_type": "code",
   "execution_count": 4,
   "id": "62320c63-c2b1-4f5b-93d0-b501a78f816e",
   "metadata": {},
   "outputs": [],
   "source": [
    "df['secondary_labels'] = df['secondary_labels'].apply(lambda x: re.findall(r\"'(\\w+)'\", x))\n",
    "df['len_sec_labels'] = df['secondary_labels'].map(len)"
   ]
  },
  {
   "cell_type": "code",
   "execution_count": 5,
   "id": "7eceae1d-f9be-4867-8077-54f8f9c9e0c7",
   "metadata": {},
   "outputs": [
    {
     "data": {
      "text/html": [
       "<div>\n",
       "<style scoped>\n",
       "    .dataframe tbody tr th:only-of-type {\n",
       "        vertical-align: middle;\n",
       "    }\n",
       "\n",
       "    .dataframe tbody tr th {\n",
       "        vertical-align: top;\n",
       "    }\n",
       "\n",
       "    .dataframe thead th {\n",
       "        text-align: right;\n",
       "    }\n",
       "</style>\n",
       "<table border=\"1\" class=\"dataframe\">\n",
       "  <thead>\n",
       "    <tr style=\"text-align: right;\">\n",
       "      <th></th>\n",
       "      <th>primary_label</th>\n",
       "      <th>secondary_labels</th>\n",
       "      <th>type</th>\n",
       "      <th>latitude</th>\n",
       "      <th>longitude</th>\n",
       "      <th>scientific_name</th>\n",
       "      <th>common_name</th>\n",
       "      <th>author</th>\n",
       "      <th>license</th>\n",
       "      <th>rating</th>\n",
       "      <th>url</th>\n",
       "      <th>filename</th>\n",
       "      <th>len_sec_labels</th>\n",
       "    </tr>\n",
       "  </thead>\n",
       "  <tbody>\n",
       "    <tr>\n",
       "      <th>21872</th>\n",
       "      <td>stbkin1</td>\n",
       "      <td>[comkin1, rorpar]</td>\n",
       "      <td>['adult', 'call', 'sex uncertain']</td>\n",
       "      <td>8.5918</td>\n",
       "      <td>81.1880</td>\n",
       "      <td>Pelargopsis capensis</td>\n",
       "      <td>Stork-billed Kingfisher</td>\n",
       "      <td>Vihansith Kulatunga</td>\n",
       "      <td>Creative Commons Attribution-ShareAlike 4.0</td>\n",
       "      <td>2.5</td>\n",
       "      <td>http://xeno-canto.org/681278</td>\n",
       "      <td>stbkin1/XC681278.ogg</td>\n",
       "      <td>2</td>\n",
       "    </tr>\n",
       "    <tr>\n",
       "      <th>2775</th>\n",
       "      <td>blakit1</td>\n",
       "      <td>[copbar1, whtkin2]</td>\n",
       "      <td>['flight call']</td>\n",
       "      <td>30.2845</td>\n",
       "      <td>77.9743</td>\n",
       "      <td>Milvus migrans</td>\n",
       "      <td>Black Kite</td>\n",
       "      <td>Rajgopal Patil</td>\n",
       "      <td>Creative Commons Attribution-NonCommercial-Sha...</td>\n",
       "      <td>4.5</td>\n",
       "      <td>https://www.xeno-canto.org/468287</td>\n",
       "      <td>blakit1/XC468287.ogg</td>\n",
       "      <td>2</td>\n",
       "    </tr>\n",
       "    <tr>\n",
       "      <th>13977</th>\n",
       "      <td>hoopoe</td>\n",
       "      <td>[barswa]</td>\n",
       "      <td>['song']</td>\n",
       "      <td>46.4766</td>\n",
       "      <td>80.9005</td>\n",
       "      <td>Upupa epops</td>\n",
       "      <td>Eurasian Hoopoe</td>\n",
       "      <td>Patrick Franke</td>\n",
       "      <td>Creative Commons Attribution-NonCommercial-Sha...</td>\n",
       "      <td>3.5</td>\n",
       "      <td>https://www.xeno-canto.org/120517</td>\n",
       "      <td>hoopoe/XC120517.ogg</td>\n",
       "      <td>1</td>\n",
       "    </tr>\n",
       "  </tbody>\n",
       "</table>\n",
       "</div>"
      ],
      "text/plain": [
       "      primary_label    secondary_labels                                type  \\\n",
       "21872       stbkin1   [comkin1, rorpar]  ['adult', 'call', 'sex uncertain']   \n",
       "2775        blakit1  [copbar1, whtkin2]                     ['flight call']   \n",
       "13977        hoopoe            [barswa]                            ['song']   \n",
       "\n",
       "       latitude  longitude       scientific_name              common_name  \\\n",
       "21872    8.5918    81.1880  Pelargopsis capensis  Stork-billed Kingfisher   \n",
       "2775    30.2845    77.9743        Milvus migrans               Black Kite   \n",
       "13977   46.4766    80.9005           Upupa epops          Eurasian Hoopoe   \n",
       "\n",
       "                    author                                            license  \\\n",
       "21872  Vihansith Kulatunga        Creative Commons Attribution-ShareAlike 4.0   \n",
       "2775        Rajgopal Patil  Creative Commons Attribution-NonCommercial-Sha...   \n",
       "13977       Patrick Franke  Creative Commons Attribution-NonCommercial-Sha...   \n",
       "\n",
       "       rating                                url              filename  \\\n",
       "21872     2.5       http://xeno-canto.org/681278  stbkin1/XC681278.ogg   \n",
       "2775      4.5  https://www.xeno-canto.org/468287  blakit1/XC468287.ogg   \n",
       "13977     3.5  https://www.xeno-canto.org/120517   hoopoe/XC120517.ogg   \n",
       "\n",
       "       len_sec_labels  \n",
       "21872               2  \n",
       "2775                2  \n",
       "13977               1  "
      ]
     },
     "execution_count": 5,
     "metadata": {},
     "output_type": "execute_result"
    }
   ],
   "source": [
    "df[df.len_sec_labels>0].sample(3)"
   ]
  },
  {
   "cell_type": "code",
   "execution_count": 6,
   "id": "08c149f3-ee22-4d75-9b57-6a2e205ff18d",
   "metadata": {},
   "outputs": [],
   "source": [
    "from sklearn.model_selection import train_test_split\n",
    "import pandas as pd\n",
    "\n",
    "def birds_stratified_split(df, target_col, test_size=0.2):\n",
    "    class_counts = df[target_col].value_counts()\n",
    "    low_count_classes = class_counts[class_counts < 2].index.tolist() ### Birds with single counts\n",
    "\n",
    "    df['train'] = df[target_col].isin(low_count_classes)\n",
    "\n",
    "    train_df, val_df = train_test_split(df[~df['train']], test_size=test_size, stratify=df[~df['train']][target_col], random_state=42)\n",
    "\n",
    "    train_df = pd.concat([train_df, df[df['train']]], axis=0).reset_index(drop=True)\n",
    "\n",
    "    # Remove the 'valid' column\n",
    "    train_df.drop('train', axis=1, inplace=True)\n",
    "    val_df.drop('train', axis=1, inplace=True)\n",
    "\n",
    "    return train_df, val_df"
   ]
  },
  {
   "cell_type": "code",
   "execution_count": 7,
   "id": "67a3119a-9bec-4bf1-988e-f7be3ffef8ac",
   "metadata": {},
   "outputs": [],
   "source": [
    "train_df, valid_df = birds_stratified_split(df, 'primary_label', 0.2)"
   ]
  },
  {
   "cell_type": "code",
   "execution_count": 8,
   "id": "0de2a2d2-a810-4d02-99e8-73354a106b17",
   "metadata": {},
   "outputs": [],
   "source": [
    "class Config:\n",
    "    sampling_rate = 32000\n",
    "    duration = 5\n",
    "    fmin = 0\n",
    "    fmax = None\n",
    "    audios_path = Path(\"../data/train_audio\")\n",
    "    out_dir_train = Path(\"specs/train\")\n",
    "    out_dir_valid = Path(\"specs/valid\")"
   ]
  },
  {
   "cell_type": "code",
   "execution_count": 9,
   "id": "89be5cf2-2470-4ee7-bd49-58ae0499c98b",
   "metadata": {},
   "outputs": [],
   "source": [
    "Config.out_dir_train.mkdir(exist_ok=True, parents=True)\n",
    "Config.out_dir_valid.mkdir(exist_ok=True, parents=True)"
   ]
  },
  {
   "cell_type": "code",
   "execution_count": 10,
   "id": "02258382-4233-4ea4-bf35-58b1e578ea55",
   "metadata": {},
   "outputs": [],
   "source": [
    "def get_audio_info(filepath):\n",
    "    \"\"\"Get some properties from  an audio file\"\"\"\n",
    "    with SoundFile(filepath) as f:\n",
    "        sr = f.samplerate\n",
    "        frames = f.frames\n",
    "        duration = float(frames)/sr\n",
    "    return {\"frames\": frames, \"sr\": sr, \"duration\": duration}"
   ]
  },
  {
   "cell_type": "code",
   "execution_count": 11,
   "id": "d822f2d6-8538-42f2-8671-3d8cd1937153",
   "metadata": {},
   "outputs": [],
   "source": [
    "def add_path_df(df):\n",
    "    \n",
    "    df[\"path\"] = [str(Config.audios_path/filename) for filename in df.filename]\n",
    "    df = df.reset_index(drop=True)\n",
    "    pool = joblib.Parallel(2)\n",
    "    mapper = joblib.delayed(get_audio_info)\n",
    "    tasks = [mapper(filepath) for filepath in df.path]\n",
    "    df2 =  pd.DataFrame(pool(tqdm(tasks))).reset_index(drop=True)\n",
    "    df = pd.concat([df,df2], axis=1).reset_index(drop=True)\n",
    "\n",
    "    return df"
   ]
  },
  {
   "cell_type": "code",
   "execution_count": 12,
   "id": "a07b8c7a-0f46-4e07-a3b6-fb485d99270b",
   "metadata": {},
   "outputs": [],
   "source": [
    "tqdm.pandas()"
   ]
  },
  {
   "cell_type": "code",
   "execution_count": 13,
   "id": "cd714817-3a6b-4e38-99a7-6a17e3017493",
   "metadata": {},
   "outputs": [
    {
     "data": {
      "application/vnd.jupyter.widget-view+json": {
       "model_id": "c7e1e46b991a49538aa76819f2e434dc",
       "version_major": 2,
       "version_minor": 0
      },
      "text/plain": [
       "  0%|          | 0/19567 [00:00<?, ?it/s]"
      ]
     },
     "metadata": {},
     "output_type": "display_data"
    }
   ],
   "source": [
    "train_df = add_path_df(train_df)"
   ]
  },
  {
   "cell_type": "code",
   "execution_count": 14,
   "id": "32fd0d2a-8921-4da6-ab40-435eeed937c1",
   "metadata": {},
   "outputs": [
    {
     "data": {
      "application/vnd.jupyter.widget-view+json": {
       "model_id": "b05cbd6db1294c6594307906d7f9a8b8",
       "version_major": 2,
       "version_minor": 0
      },
      "text/plain": [
       "  0%|          | 0/4892 [00:00<?, ?it/s]"
      ]
     },
     "metadata": {},
     "output_type": "display_data"
    }
   ],
   "source": [
    "valid_df = add_path_df(valid_df)"
   ]
  },
  {
   "cell_type": "code",
   "execution_count": 15,
   "id": "856451ac-72d5-4f18-b2f9-41e35e88672c",
   "metadata": {},
   "outputs": [
    {
     "data": {
      "text/plain": [
       "count    19567.000000\n",
       "mean        41.858233\n",
       "std         98.451733\n",
       "min          0.470000\n",
       "25%         11.180406\n",
       "50%         22.230219\n",
       "75%         44.564906\n",
       "max       4670.641625\n",
       "Name: duration, dtype: float64"
      ]
     },
     "execution_count": 15,
     "metadata": {},
     "output_type": "execute_result"
    }
   ],
   "source": [
    "train_df[\"duration\"].describe()"
   ]
  },
  {
   "cell_type": "code",
   "execution_count": 16,
   "id": "0d8d6cf2-4de1-477b-905b-a6090d161631",
   "metadata": {},
   "outputs": [],
   "source": [
    "train_df.to_csv('train.csv', index=False)\n",
    "valid_df.to_csv('valid.csv', index=False)"
   ]
  },
  {
   "cell_type": "code",
   "execution_count": 17,
   "id": "d621ec2a-62b1-4250-b034-18e59a9ab4f1",
   "metadata": {},
   "outputs": [],
   "source": [
    "def compute_melspec(y, sr, n_mels, fmin, fmax):\n",
    "    \"\"\"\n",
    "    Computes a mel-spectrogram and puts it at decibel scale\n",
    "    Arguments:\n",
    "        y {np array} -- signal\n",
    "        params {AudioParams} -- Parameters to use for the spectrogram. Expected to have the attributes sr, n_mels, f_min, f_max\n",
    "    Returns:\n",
    "        np array -- Mel-spectrogram\n",
    "    \"\"\"\n",
    "    melspec = lb.feature.melspectrogram(\n",
    "        y=y, sr=sr, n_mels=n_mels, fmin=fmin, fmax=fmax,\n",
    "    )\n",
    "\n",
    "    melspec = lb.power_to_db(melspec).astype(np.float32)\n",
    "    return melspec"
   ]
  },
  {
   "cell_type": "code",
   "execution_count": 18,
   "id": "769233e2-cdfc-4c76-be59-c057d73cb9f5",
   "metadata": {},
   "outputs": [],
   "source": [
    "def mono_to_color(X, eps=1e-6, mean=None, std=None):\n",
    "    mean = mean or X.mean()\n",
    "    std = std or X.std()\n",
    "    X = (X - mean) / (std + eps)\n",
    "    \n",
    "    _min, _max = X.min(), X.max()\n",
    "\n",
    "    if (_max - _min) > eps:\n",
    "        V = np.clip(X, _min, _max)\n",
    "        V = 255 * (V - _min) / (_max - _min)\n",
    "        V = V.astype(np.uint8)\n",
    "    else:\n",
    "        V = np.zeros_like(X, dtype=np.uint8)\n",
    "\n",
    "    return V\n",
    "\n",
    "def crop_or_pad(y, length, is_train=True, start=None):\n",
    "    if len(y) < length:\n",
    "        y = np.concatenate([y, np.zeros(length - len(y))])\n",
    "        \n",
    "        n_repeats = length // len(y)\n",
    "        epsilon = length % len(y)\n",
    "        \n",
    "        y = np.concatenate([y]*n_repeats + [y[:epsilon]])\n",
    "        \n",
    "    elif len(y) > length:\n",
    "        if not is_train:\n",
    "            start = start or 0\n",
    "        else:\n",
    "            start = start or np.random.randint(len(y) - length)\n",
    "\n",
    "        y = y[start:start + length]\n",
    "\n",
    "    return y"
   ]
  },
  {
   "cell_type": "code",
   "execution_count": 19,
   "id": "8b8e5e6c-80b1-454d-a9c4-aa43980274d1",
   "metadata": {},
   "outputs": [],
   "source": [
    "class AudioToImage:\n",
    "    def __init__(self, sr=Config.sampling_rate, n_mels=128, fmin=Config.fmin, fmax=Config.fmax, duration=Config.duration, step=None, res_type=\"kaiser_fast\", resample=True, train = True):\n",
    "\n",
    "        self.sr = sr\n",
    "        self.n_mels = n_mels\n",
    "        self.fmin = fmin\n",
    "        self.fmax = fmax or self.sr//2\n",
    "\n",
    "        self.duration = duration\n",
    "        self.audio_length = self.duration*self.sr\n",
    "        self.step = step or self.audio_length\n",
    "        \n",
    "        self.res_type = res_type\n",
    "        self.resample = resample\n",
    "\n",
    "        self.train = train\n",
    "    def audio_to_image(self, audio):\n",
    "        melspec = compute_melspec(audio, self.sr, self.n_mels, self.fmin, self.fmax ) \n",
    "        image = mono_to_color(melspec)\n",
    "#         compute_melspec(y, sr, n_mels, fmin, fmax)\n",
    "        return image\n",
    "\n",
    "    def __call__(self, row, save=True):\n",
    "\n",
    "      audio, orig_sr = sf.read(row.path, dtype=\"float32\")\n",
    "\n",
    "      if self.resample and orig_sr != self.sr:\n",
    "        audio = lb.resample(audio, orig_sr, self.sr, res_type=self.res_type)\n",
    "        \n",
    "      audios = [audio[i:i+self.audio_length] for i in range(0, max(1, len(audio) - self.audio_length + 1), self.step)]\n",
    "      audios[-1] = crop_or_pad(audios[-1] , length=self.audio_length)\n",
    "      images = [self.audio_to_image(audio) for audio in audios]\n",
    "      images = np.stack(images)\n",
    "        \n",
    "      if save:\n",
    "        if self.train:\n",
    "            path = Config.out_dir_train/f\"{row.filename}.npy\"\n",
    "        else:\n",
    "            path = Config.out_dir_valid/f\"{row.filename}.npy\"\n",
    "            \n",
    "        path.parent.mkdir(exist_ok=True, parents=True)\n",
    "        np.save(str(path), images)\n",
    "      else:\n",
    "        return  row.filename, images"
   ]
  },
  {
   "cell_type": "code",
   "execution_count": 20,
   "id": "bc35453b-86d5-4c61-867d-b2e55afb6253",
   "metadata": {},
   "outputs": [],
   "source": [
    "tqdm.pandas()"
   ]
  },
  {
   "cell_type": "code",
   "execution_count": 21,
   "id": "3bec5f3e-650f-411b-ba02-669bc2df7e57",
   "metadata": {},
   "outputs": [],
   "source": [
    "def get_audios_as_images(df, train = True):\n",
    "    pool = joblib.Parallel(2)\n",
    "    \n",
    "    converter = AudioToImage(step=int(Config.duration*0.666*Config.sampling_rate),train=train)\n",
    "    mapper = joblib.delayed(converter)\n",
    "    tasks = [mapper(row) for row in df.itertuples(False)]\n",
    "    pool(tqdm(tasks))"
   ]
  },
  {
   "cell_type": "code",
   "execution_count": 22,
   "id": "b0f9100a-5b3e-4a4c-83a6-00442533521a",
   "metadata": {},
   "outputs": [
    {
     "data": {
      "application/vnd.jupyter.widget-view+json": {
       "model_id": "aed7e2dce34c44b09836aa065f181113",
       "version_major": 2,
       "version_minor": 0
      },
      "text/plain": [
       "  0%|          | 0/19567 [00:00<?, ?it/s]"
      ]
     },
     "metadata": {},
     "output_type": "display_data"
    }
   ],
   "source": [
    "get_audios_as_images(train_df, train = True)"
   ]
  },
  {
   "cell_type": "code",
   "execution_count": 23,
   "id": "e7ce0f34-bb94-47b1-b76d-64a6bebe9cd2",
   "metadata": {},
   "outputs": [
    {
     "data": {
      "application/vnd.jupyter.widget-view+json": {
       "model_id": "5fde47bca4dd4494a722daa5323987f3",
       "version_major": 2,
       "version_minor": 0
      },
      "text/plain": [
       "  0%|          | 0/4892 [00:00<?, ?it/s]"
      ]
     },
     "metadata": {},
     "output_type": "display_data"
    }
   ],
   "source": [
    "get_audios_as_images(valid_df, train = False)"
   ]
  },
  {
   "cell_type": "code",
   "execution_count": null,
   "id": "af12e20d-0199-4201-933a-9d55d31e53f1",
   "metadata": {},
   "outputs": [],
   "source": []
  }
 ],
 "metadata": {
  "kernelspec": {
   "display_name": "Python 3 (ipykernel)",
   "language": "python",
   "name": "python3"
  },
  "language_info": {
   "codemirror_mode": {
    "name": "ipython",
    "version": 3
   },
   "file_extension": ".py",
   "mimetype": "text/x-python",
   "name": "python",
   "nbconvert_exporter": "python",
   "pygments_lexer": "ipython3",
   "version": "3.11.8"
  }
 },
 "nbformat": 4,
 "nbformat_minor": 5
}
