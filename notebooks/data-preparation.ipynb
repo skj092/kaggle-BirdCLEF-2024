{
 "cells": [
  {
   "cell_type": "code",
   "execution_count": 2,
   "id": "f6e1a981-93f3-494f-97a9-da75bc4679f4",
   "metadata": {},
   "outputs": [],
   "source": [
    "import numpy as np\n",
    "import librosa as lb\n",
    "import librosa.display as lbd\n",
    "import soundfile as sf\n",
    "from  soundfile import SoundFile\n",
    "import pandas as pd\n",
    "from  IPython.display import Audio\n",
    "from pathlib import Path\n",
    "\n",
    "from matplotlib import pyplot as plt\n",
    "\n",
    "from tqdm.notebook import tqdm\n",
    "import joblib, json, re\n",
    "\n",
    "from  sklearn.model_selection  import StratifiedKFold\n",
    "tqdm.pandas()"
   ]
  },
  {
   "cell_type": "code",
   "execution_count": 6,
   "id": "e21cdb55-ab7a-4a42-b183-c6f311defe34",
   "metadata": {},
   "outputs": [
    {
     "data": {
      "text/plain": [
       "(24459, 12)"
      ]
     },
     "execution_count": 6,
     "metadata": {},
     "output_type": "execute_result"
    }
   ],
   "source": [
    "df = pd.read_csv('../data/train_metadata.csv')\n",
    "df.shape"
   ]
  },
  {
   "cell_type": "code",
   "execution_count": 7,
   "id": "0013b606-bd54-43b3-8ab9-35df8f3ef0af",
   "metadata": {},
   "outputs": [
    {
     "data": {
      "text/html": [
       "<div>\n",
       "<style scoped>\n",
       "    .dataframe tbody tr th:only-of-type {\n",
       "        vertical-align: middle;\n",
       "    }\n",
       "\n",
       "    .dataframe tbody tr th {\n",
       "        vertical-align: top;\n",
       "    }\n",
       "\n",
       "    .dataframe thead th {\n",
       "        text-align: right;\n",
       "    }\n",
       "</style>\n",
       "<table border=\"1\" class=\"dataframe\">\n",
       "  <thead>\n",
       "    <tr style=\"text-align: right;\">\n",
       "      <th></th>\n",
       "      <th>primary_label</th>\n",
       "      <th>secondary_labels</th>\n",
       "      <th>type</th>\n",
       "      <th>latitude</th>\n",
       "      <th>longitude</th>\n",
       "      <th>scientific_name</th>\n",
       "      <th>common_name</th>\n",
       "      <th>author</th>\n",
       "      <th>license</th>\n",
       "      <th>rating</th>\n",
       "      <th>url</th>\n",
       "      <th>filename</th>\n",
       "    </tr>\n",
       "  </thead>\n",
       "  <tbody>\n",
       "    <tr>\n",
       "      <th>0</th>\n",
       "      <td>asbfly</td>\n",
       "      <td>[]</td>\n",
       "      <td>['call']</td>\n",
       "      <td>39.2297</td>\n",
       "      <td>118.1987</td>\n",
       "      <td>Muscicapa dauurica</td>\n",
       "      <td>Asian Brown Flycatcher</td>\n",
       "      <td>Matt Slaymaker</td>\n",
       "      <td>Creative Commons Attribution-NonCommercial-Sha...</td>\n",
       "      <td>5.0</td>\n",
       "      <td>https://www.xeno-canto.org/134896</td>\n",
       "      <td>asbfly/XC134896.ogg</td>\n",
       "    </tr>\n",
       "    <tr>\n",
       "      <th>1</th>\n",
       "      <td>asbfly</td>\n",
       "      <td>[]</td>\n",
       "      <td>['song']</td>\n",
       "      <td>51.4030</td>\n",
       "      <td>104.6401</td>\n",
       "      <td>Muscicapa dauurica</td>\n",
       "      <td>Asian Brown Flycatcher</td>\n",
       "      <td>Magnus Hellström</td>\n",
       "      <td>Creative Commons Attribution-NonCommercial-Sha...</td>\n",
       "      <td>2.5</td>\n",
       "      <td>https://www.xeno-canto.org/164848</td>\n",
       "      <td>asbfly/XC164848.ogg</td>\n",
       "    </tr>\n",
       "    <tr>\n",
       "      <th>2</th>\n",
       "      <td>asbfly</td>\n",
       "      <td>[]</td>\n",
       "      <td>['song']</td>\n",
       "      <td>36.3319</td>\n",
       "      <td>127.3555</td>\n",
       "      <td>Muscicapa dauurica</td>\n",
       "      <td>Asian Brown Flycatcher</td>\n",
       "      <td>Stuart Fisher</td>\n",
       "      <td>Creative Commons Attribution-NonCommercial-Sha...</td>\n",
       "      <td>2.5</td>\n",
       "      <td>https://www.xeno-canto.org/175797</td>\n",
       "      <td>asbfly/XC175797.ogg</td>\n",
       "    </tr>\n",
       "    <tr>\n",
       "      <th>3</th>\n",
       "      <td>asbfly</td>\n",
       "      <td>[]</td>\n",
       "      <td>['call']</td>\n",
       "      <td>21.1697</td>\n",
       "      <td>70.6005</td>\n",
       "      <td>Muscicapa dauurica</td>\n",
       "      <td>Asian Brown Flycatcher</td>\n",
       "      <td>vir joshi</td>\n",
       "      <td>Creative Commons Attribution-NonCommercial-Sha...</td>\n",
       "      <td>4.0</td>\n",
       "      <td>https://www.xeno-canto.org/207738</td>\n",
       "      <td>asbfly/XC207738.ogg</td>\n",
       "    </tr>\n",
       "    <tr>\n",
       "      <th>4</th>\n",
       "      <td>asbfly</td>\n",
       "      <td>[]</td>\n",
       "      <td>['call']</td>\n",
       "      <td>15.5442</td>\n",
       "      <td>73.7733</td>\n",
       "      <td>Muscicapa dauurica</td>\n",
       "      <td>Asian Brown Flycatcher</td>\n",
       "      <td>Albert Lastukhin &amp; Sergei Karpeev</td>\n",
       "      <td>Creative Commons Attribution-NonCommercial-Sha...</td>\n",
       "      <td>4.0</td>\n",
       "      <td>https://www.xeno-canto.org/209218</td>\n",
       "      <td>asbfly/XC209218.ogg</td>\n",
       "    </tr>\n",
       "  </tbody>\n",
       "</table>\n",
       "</div>"
      ],
      "text/plain": [
       "  primary_label secondary_labels      type  latitude  longitude  \\\n",
       "0        asbfly               []  ['call']   39.2297   118.1987   \n",
       "1        asbfly               []  ['song']   51.4030   104.6401   \n",
       "2        asbfly               []  ['song']   36.3319   127.3555   \n",
       "3        asbfly               []  ['call']   21.1697    70.6005   \n",
       "4        asbfly               []  ['call']   15.5442    73.7733   \n",
       "\n",
       "      scientific_name             common_name  \\\n",
       "0  Muscicapa dauurica  Asian Brown Flycatcher   \n",
       "1  Muscicapa dauurica  Asian Brown Flycatcher   \n",
       "2  Muscicapa dauurica  Asian Brown Flycatcher   \n",
       "3  Muscicapa dauurica  Asian Brown Flycatcher   \n",
       "4  Muscicapa dauurica  Asian Brown Flycatcher   \n",
       "\n",
       "                              author  \\\n",
       "0                     Matt Slaymaker   \n",
       "1                   Magnus Hellström   \n",
       "2                      Stuart Fisher   \n",
       "3                          vir joshi   \n",
       "4  Albert Lastukhin & Sergei Karpeev   \n",
       "\n",
       "                                             license  rating  \\\n",
       "0  Creative Commons Attribution-NonCommercial-Sha...     5.0   \n",
       "1  Creative Commons Attribution-NonCommercial-Sha...     2.5   \n",
       "2  Creative Commons Attribution-NonCommercial-Sha...     2.5   \n",
       "3  Creative Commons Attribution-NonCommercial-Sha...     4.0   \n",
       "4  Creative Commons Attribution-NonCommercial-Sha...     4.0   \n",
       "\n",
       "                                 url             filename  \n",
       "0  https://www.xeno-canto.org/134896  asbfly/XC134896.ogg  \n",
       "1  https://www.xeno-canto.org/164848  asbfly/XC164848.ogg  \n",
       "2  https://www.xeno-canto.org/175797  asbfly/XC175797.ogg  \n",
       "3  https://www.xeno-canto.org/207738  asbfly/XC207738.ogg  \n",
       "4  https://www.xeno-canto.org/209218  asbfly/XC209218.ogg  "
      ]
     },
     "execution_count": 7,
     "metadata": {},
     "output_type": "execute_result"
    }
   ],
   "source": [
    "df.head()"
   ]
  },
  {
   "cell_type": "code",
   "execution_count": 8,
   "id": "62320c63-c2b1-4f5b-93d0-b501a78f816e",
   "metadata": {},
   "outputs": [],
   "source": [
    "df['secondary_labels'] = df['secondary_labels'].apply(lambda x: re.findall(r\"'(\\w+)'\", x))\n",
    "df['len_sec_labels'] = df['secondary_labels'].map(len)"
   ]
  },
  {
   "cell_type": "code",
   "execution_count": 9,
   "id": "7eceae1d-f9be-4867-8077-54f8f9c9e0c7",
   "metadata": {},
   "outputs": [
    {
     "data": {
      "text/html": [
       "<div>\n",
       "<style scoped>\n",
       "    .dataframe tbody tr th:only-of-type {\n",
       "        vertical-align: middle;\n",
       "    }\n",
       "\n",
       "    .dataframe tbody tr th {\n",
       "        vertical-align: top;\n",
       "    }\n",
       "\n",
       "    .dataframe thead th {\n",
       "        text-align: right;\n",
       "    }\n",
       "</style>\n",
       "<table border=\"1\" class=\"dataframe\">\n",
       "  <thead>\n",
       "    <tr style=\"text-align: right;\">\n",
       "      <th></th>\n",
       "      <th>primary_label</th>\n",
       "      <th>secondary_labels</th>\n",
       "      <th>type</th>\n",
       "      <th>latitude</th>\n",
       "      <th>longitude</th>\n",
       "      <th>scientific_name</th>\n",
       "      <th>common_name</th>\n",
       "      <th>author</th>\n",
       "      <th>license</th>\n",
       "      <th>rating</th>\n",
       "      <th>url</th>\n",
       "      <th>filename</th>\n",
       "      <th>len_sec_labels</th>\n",
       "    </tr>\n",
       "  </thead>\n",
       "  <tbody>\n",
       "    <tr>\n",
       "      <th>1252</th>\n",
       "      <td>bcnher</td>\n",
       "      <td>[categr]</td>\n",
       "      <td>['call']</td>\n",
       "      <td>37.2363</td>\n",
       "      <td>-6.0611</td>\n",
       "      <td>Nycticorax nycticorax</td>\n",
       "      <td>Black-crowned Night-Heron</td>\n",
       "      <td>Carlos W.</td>\n",
       "      <td>Creative Commons Attribution-NonCommercial-Sha...</td>\n",
       "      <td>4.5</td>\n",
       "      <td>https://www.xeno-canto.org/304259</td>\n",
       "      <td>bcnher/XC304259.ogg</td>\n",
       "      <td>1</td>\n",
       "    </tr>\n",
       "    <tr>\n",
       "      <th>12853</th>\n",
       "      <td>grtdro1</td>\n",
       "      <td>[comtai1]</td>\n",
       "      <td>['song']</td>\n",
       "      <td>16.7048</td>\n",
       "      <td>101.5211</td>\n",
       "      <td>Dicrurus paradiseus</td>\n",
       "      <td>Greater Racket-tailed Drongo</td>\n",
       "      <td>Chai</td>\n",
       "      <td>Creative Commons Attribution-NonCommercial-Sha...</td>\n",
       "      <td>4.5</td>\n",
       "      <td>https://www.xeno-canto.org/329485</td>\n",
       "      <td>grtdro1/XC329485.ogg</td>\n",
       "      <td>1</td>\n",
       "    </tr>\n",
       "    <tr>\n",
       "      <th>3875</th>\n",
       "      <td>brnhao1</td>\n",
       "      <td>[asikoe2, houcro1]</td>\n",
       "      <td>['call']</td>\n",
       "      <td>8.5493</td>\n",
       "      <td>76.9773</td>\n",
       "      <td>Ninox scutulata</td>\n",
       "      <td>Brown Boobook</td>\n",
       "      <td>chiefredearth</td>\n",
       "      <td>Creative Commons Attribution-NonCommercial-Sha...</td>\n",
       "      <td>2.5</td>\n",
       "      <td>https://www.xeno-canto.org/155373</td>\n",
       "      <td>brnhao1/XC155373.ogg</td>\n",
       "      <td>2</td>\n",
       "    </tr>\n",
       "  </tbody>\n",
       "</table>\n",
       "</div>"
      ],
      "text/plain": [
       "      primary_label    secondary_labels      type  latitude  longitude  \\\n",
       "1252         bcnher            [categr]  ['call']   37.2363    -6.0611   \n",
       "12853       grtdro1           [comtai1]  ['song']   16.7048   101.5211   \n",
       "3875        brnhao1  [asikoe2, houcro1]  ['call']    8.5493    76.9773   \n",
       "\n",
       "             scientific_name                   common_name         author  \\\n",
       "1252   Nycticorax nycticorax     Black-crowned Night-Heron      Carlos W.   \n",
       "12853    Dicrurus paradiseus  Greater Racket-tailed Drongo           Chai   \n",
       "3875         Ninox scutulata                 Brown Boobook  chiefredearth   \n",
       "\n",
       "                                                 license  rating  \\\n",
       "1252   Creative Commons Attribution-NonCommercial-Sha...     4.5   \n",
       "12853  Creative Commons Attribution-NonCommercial-Sha...     4.5   \n",
       "3875   Creative Commons Attribution-NonCommercial-Sha...     2.5   \n",
       "\n",
       "                                     url              filename  len_sec_labels  \n",
       "1252   https://www.xeno-canto.org/304259   bcnher/XC304259.ogg               1  \n",
       "12853  https://www.xeno-canto.org/329485  grtdro1/XC329485.ogg               1  \n",
       "3875   https://www.xeno-canto.org/155373  brnhao1/XC155373.ogg               2  "
      ]
     },
     "execution_count": 9,
     "metadata": {},
     "output_type": "execute_result"
    }
   ],
   "source": [
    "df[df.len_sec_labels>0].sample(3)"
   ]
  },
  {
   "cell_type": "code",
   "execution_count": 10,
   "id": "08c149f3-ee22-4d75-9b57-6a2e205ff18d",
   "metadata": {},
   "outputs": [],
   "source": [
    "from sklearn.model_selection import train_test_split\n",
    "import pandas as pd\n",
    "\n",
    "def birds_stratified_split(df, target_col, test_size=0.2):\n",
    "    class_counts = df[target_col].value_counts()\n",
    "    low_count_classes = class_counts[class_counts < 2].index.tolist() ### Birds with single counts\n",
    "\n",
    "    df['train'] = df[target_col].isin(low_count_classes)\n",
    "\n",
    "    train_df, val_df = train_test_split(df[~df['train']], test_size=test_size, stratify=df[~df['train']][target_col], random_state=42)\n",
    "\n",
    "    train_df = pd.concat([train_df, df[df['train']]], axis=0).reset_index(drop=True)\n",
    "\n",
    "    # Remove the 'valid' column\n",
    "    train_df.drop('train', axis=1, inplace=True)\n",
    "    val_df.drop('train', axis=1, inplace=True)\n",
    "\n",
    "    return train_df, val_df"
   ]
  },
  {
   "cell_type": "code",
   "execution_count": 11,
   "id": "67a3119a-9bec-4bf1-988e-f7be3ffef8ac",
   "metadata": {},
   "outputs": [],
   "source": [
    "train_df, valid_df = birds_stratified_split(df, 'primary_label', 0.2)"
   ]
  },
  {
   "cell_type": "code",
   "execution_count": 14,
   "id": "0de2a2d2-a810-4d02-99e8-73354a106b17",
   "metadata": {},
   "outputs": [],
   "source": [
    "class Config:\n",
    "    sampling_rate = 32000\n",
    "    duration = 5\n",
    "    fmin = 0\n",
    "    fmax = None\n",
    "    audios_path = Path(\"../data/train_audio\")\n",
    "    out_dir_train = Path(\"specs/train\")\n",
    "    out_dir_valid = Path(\"specs/valid\")"
   ]
  },
  {
   "cell_type": "code",
   "execution_count": 15,
   "id": "89be5cf2-2470-4ee7-bd49-58ae0499c98b",
   "metadata": {},
   "outputs": [],
   "source": [
    "Config.out_dir_train.mkdir(exist_ok=True, parents=True)\n",
    "Config.out_dir_valid.mkdir(exist_ok=True, parents=True)"
   ]
  },
  {
   "cell_type": "code",
   "execution_count": 16,
   "id": "02258382-4233-4ea4-bf35-58b1e578ea55",
   "metadata": {},
   "outputs": [],
   "source": [
    "def get_audio_info(filepath):\n",
    "    \"\"\"Get some properties from  an audio file\"\"\"\n",
    "    with SoundFile(filepath) as f:\n",
    "        sr = f.samplerate\n",
    "        frames = f.frames\n",
    "        duration = float(frames)/sr\n",
    "    return {\"frames\": frames, \"sr\": sr, \"duration\": duration}"
   ]
  },
  {
   "cell_type": "code",
   "execution_count": 17,
   "id": "d822f2d6-8538-42f2-8671-3d8cd1937153",
   "metadata": {},
   "outputs": [],
   "source": [
    "def add_path_df(df):\n",
    "    \n",
    "    df[\"path\"] = [str(Config.audios_path/filename) for filename in df.filename]\n",
    "    df = df.reset_index(drop=True)\n",
    "    pool = joblib.Parallel(2)\n",
    "    mapper = joblib.delayed(get_audio_info)\n",
    "    tasks = [mapper(filepath) for filepath in df.path]\n",
    "    df2 =  pd.DataFrame(pool(tqdm(tasks))).reset_index(drop=True)\n",
    "    df = pd.concat([df,df2], axis=1).reset_index(drop=True)\n",
    "\n",
    "    return df"
   ]
  },
  {
   "cell_type": "code",
   "execution_count": 18,
   "id": "a07b8c7a-0f46-4e07-a3b6-fb485d99270b",
   "metadata": {},
   "outputs": [],
   "source": [
    "tqdm.pandas()"
   ]
  },
  {
   "cell_type": "code",
   "execution_count": null,
   "id": "cd714817-3a6b-4e38-99a7-6a17e3017493",
   "metadata": {},
   "outputs": [],
   "source": [
    "train_df = add_path_df(train_df)"
   ]
  },
  {
   "cell_type": "code",
   "execution_count": null,
   "id": "32fd0d2a-8921-4da6-ab40-435eeed937c1",
   "metadata": {},
   "outputs": [],
   "source": [
    "valid_df = add_path_df(valid_df)"
   ]
  },
  {
   "cell_type": "code",
   "execution_count": 15,
   "id": "856451ac-72d5-4f18-b2f9-41e35e88672c",
   "metadata": {},
   "outputs": [
    {
     "data": {
      "text/plain": [
       "count    19567.000000\n",
       "mean        41.858233\n",
       "std         98.451733\n",
       "min          0.470000\n",
       "25%         11.180406\n",
       "50%         22.230219\n",
       "75%         44.564906\n",
       "max       4670.641625\n",
       "Name: duration, dtype: float64"
      ]
     },
     "execution_count": 15,
     "metadata": {},
     "output_type": "execute_result"
    }
   ],
   "source": [
    "train_df[\"duration\"].describe()"
   ]
  },
  {
   "cell_type": "code",
   "execution_count": 16,
   "id": "0d8d6cf2-4de1-477b-905b-a6090d161631",
   "metadata": {},
   "outputs": [],
   "source": [
    "train_df.to_csv('train.csv', index=False)\n",
    "valid_df.to_csv('valid.csv', index=False)"
   ]
  },
  {
   "cell_type": "code",
   "execution_count": 17,
   "id": "d621ec2a-62b1-4250-b034-18e59a9ab4f1",
   "metadata": {},
   "outputs": [],
   "source": [
    "def compute_melspec(y, sr, n_mels, fmin, fmax):\n",
    "    \"\"\"\n",
    "    Computes a mel-spectrogram and puts it at decibel scale\n",
    "    Arguments:\n",
    "        y {np array} -- signal\n",
    "        params {AudioParams} -- Parameters to use for the spectrogram. Expected to have the attributes sr, n_mels, f_min, f_max\n",
    "    Returns:\n",
    "        np array -- Mel-spectrogram\n",
    "    \"\"\"\n",
    "    melspec = lb.feature.melspectrogram(\n",
    "        y=y, sr=sr, n_mels=n_mels, fmin=fmin, fmax=fmax,\n",
    "    )\n",
    "\n",
    "    melspec = lb.power_to_db(melspec).astype(np.float32)\n",
    "    return melspec"
   ]
  },
  {
   "cell_type": "code",
   "execution_count": 18,
   "id": "769233e2-cdfc-4c76-be59-c057d73cb9f5",
   "metadata": {},
   "outputs": [],
   "source": [
    "def mono_to_color(X, eps=1e-6, mean=None, std=None):\n",
    "    mean = mean or X.mean()\n",
    "    std = std or X.std()\n",
    "    X = (X - mean) / (std + eps)\n",
    "    \n",
    "    _min, _max = X.min(), X.max()\n",
    "\n",
    "    if (_max - _min) > eps:\n",
    "        V = np.clip(X, _min, _max)\n",
    "        V = 255 * (V - _min) / (_max - _min)\n",
    "        V = V.astype(np.uint8)\n",
    "    else:\n",
    "        V = np.zeros_like(X, dtype=np.uint8)\n",
    "\n",
    "    return V\n",
    "\n",
    "def crop_or_pad(y, length, is_train=True, start=None):\n",
    "    if len(y) < length:\n",
    "        y = np.concatenate([y, np.zeros(length - len(y))])\n",
    "        \n",
    "        n_repeats = length // len(y)\n",
    "        epsilon = length % len(y)\n",
    "        \n",
    "        y = np.concatenate([y]*n_repeats + [y[:epsilon]])\n",
    "        \n",
    "    elif len(y) > length:\n",
    "        if not is_train:\n",
    "            start = start or 0\n",
    "        else:\n",
    "            start = start or np.random.randint(len(y) - length)\n",
    "\n",
    "        y = y[start:start + length]\n",
    "\n",
    "    return y"
   ]
  },
  {
   "cell_type": "code",
   "execution_count": 19,
   "id": "8b8e5e6c-80b1-454d-a9c4-aa43980274d1",
   "metadata": {},
   "outputs": [],
   "source": [
    "class AudioToImage:\n",
    "    def __init__(self, sr=Config.sampling_rate, n_mels=128, fmin=Config.fmin, fmax=Config.fmax, duration=Config.duration, step=None, res_type=\"kaiser_fast\", resample=True, train = True):\n",
    "\n",
    "        self.sr = sr\n",
    "        self.n_mels = n_mels\n",
    "        self.fmin = fmin\n",
    "        self.fmax = fmax or self.sr//2\n",
    "\n",
    "        self.duration = duration\n",
    "        self.audio_length = self.duration*self.sr\n",
    "        self.step = step or self.audio_length\n",
    "        \n",
    "        self.res_type = res_type\n",
    "        self.resample = resample\n",
    "\n",
    "        self.train = train\n",
    "    def audio_to_image(self, audio):\n",
    "        melspec = compute_melspec(audio, self.sr, self.n_mels, self.fmin, self.fmax ) \n",
    "        image = mono_to_color(melspec)\n",
    "#         compute_melspec(y, sr, n_mels, fmin, fmax)\n",
    "        return image\n",
    "\n",
    "    def __call__(self, row, save=True):\n",
    "\n",
    "      audio, orig_sr = sf.read(row.path, dtype=\"float32\")\n",
    "\n",
    "      if self.resample and orig_sr != self.sr:\n",
    "        audio = lb.resample(audio, orig_sr, self.sr, res_type=self.res_type)\n",
    "        \n",
    "      audios = [audio[i:i+self.audio_length] for i in range(0, max(1, len(audio) - self.audio_length + 1), self.step)]\n",
    "      audios[-1] = crop_or_pad(audios[-1] , length=self.audio_length)\n",
    "      images = [self.audio_to_image(audio) for audio in audios]\n",
    "      images = np.stack(images)\n",
    "        \n",
    "      if save:\n",
    "        if self.train:\n",
    "            path = Config.out_dir_train/f\"{row.filename}.npy\"\n",
    "        else:\n",
    "            path = Config.out_dir_valid/f\"{row.filename}.npy\"\n",
    "            \n",
    "        path.parent.mkdir(exist_ok=True, parents=True)\n",
    "        np.save(str(path), images)\n",
    "      else:\n",
    "        return  row.filename, images"
   ]
  },
  {
   "cell_type": "code",
   "execution_count": 20,
   "id": "bc35453b-86d5-4c61-867d-b2e55afb6253",
   "metadata": {},
   "outputs": [],
   "source": [
    "tqdm.pandas()"
   ]
  },
  {
   "cell_type": "code",
   "execution_count": 21,
   "id": "3bec5f3e-650f-411b-ba02-669bc2df7e57",
   "metadata": {},
   "outputs": [],
   "source": [
    "def get_audios_as_images(df, train = True):\n",
    "    pool = joblib.Parallel(2)\n",
    "    \n",
    "    converter = AudioToImage(step=int(Config.duration*0.666*Config.sampling_rate),train=train)\n",
    "    mapper = joblib.delayed(converter)\n",
    "    tasks = [mapper(row) for row in df.itertuples(False)]\n",
    "    pool(tqdm(tasks))"
   ]
  },
  {
   "cell_type": "code",
   "execution_count": 22,
   "id": "b0f9100a-5b3e-4a4c-83a6-00442533521a",
   "metadata": {},
   "outputs": [
    {
     "data": {
      "application/vnd.jupyter.widget-view+json": {
       "model_id": "aed7e2dce34c44b09836aa065f181113",
       "version_major": 2,
       "version_minor": 0
      },
      "text/plain": [
       "  0%|          | 0/19567 [00:00<?, ?it/s]"
      ]
     },
     "metadata": {},
     "output_type": "display_data"
    }
   ],
   "source": [
    "get_audios_as_images(train_df, train = True)"
   ]
  },
  {
   "cell_type": "code",
   "execution_count": 23,
   "id": "e7ce0f34-bb94-47b1-b76d-64a6bebe9cd2",
   "metadata": {},
   "outputs": [
    {
     "data": {
      "application/vnd.jupyter.widget-view+json": {
       "model_id": "5fde47bca4dd4494a722daa5323987f3",
       "version_major": 2,
       "version_minor": 0
      },
      "text/plain": [
       "  0%|          | 0/4892 [00:00<?, ?it/s]"
      ]
     },
     "metadata": {},
     "output_type": "display_data"
    }
   ],
   "source": [
    "get_audios_as_images(valid_df, train = False)"
   ]
  },
  {
   "cell_type": "code",
   "execution_count": null,
   "id": "af12e20d-0199-4201-933a-9d55d31e53f1",
   "metadata": {},
   "outputs": [],
   "source": []
  }
 ],
 "metadata": {
  "kernelspec": {
   "display_name": "Python 3",
   "language": "python",
   "name": "python3"
  },
  "language_info": {
   "codemirror_mode": {
    "name": "ipython",
    "version": 3
   },
   "file_extension": ".py",
   "mimetype": "text/x-python",
   "name": "python",
   "nbconvert_exporter": "python",
   "pygments_lexer": "ipython3",
   "version": "3.10.10"
  }
 },
 "nbformat": 4,
 "nbformat_minor": 5
}
