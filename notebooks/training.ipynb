{
 "cells": [
  {
   "cell_type": "code",
   "execution_count": 122,
   "id": "3a8dbcd8-ef78-4466-89cc-6911399b6bed",
   "metadata": {},
   "outputs": [],
   "source": [
    "import numpy as np\n",
    "import pandas as pd\n",
    "import matplotlib.pyplot as plt\n",
    "import torch\n",
    "import os\n",
    "import pytorch_lightning as pl\n",
    "from torch.utils.data import Dataset, DataLoader\n",
    "from sklearn import model_selection\n",
    "import torchvision.transforms as transforms\n",
    "import torchvision.io \n",
    "import librosa\n",
    "from PIL import Image\n",
    "import albumentations as alb\n",
    "import torch.multiprocessing as mp\n",
    "import warnings\n",
    "\n",
    "warnings.filterwarnings('ignore')"
   ]
  },
  {
   "cell_type": "code",
   "execution_count": 123,
   "id": "301d4115-6d75-462a-8b43-963822d4c111",
   "metadata": {},
   "outputs": [],
   "source": [
    "from pytorch_lightning.callbacks import ModelCheckpoint, BackboneFinetuning, EarlyStopping"
   ]
  },
  {
   "cell_type": "code",
   "execution_count": 124,
   "id": "d18f17c0-9251-41fe-b8b5-dcf4c0bda13f",
   "metadata": {},
   "outputs": [],
   "source": [
    "class Config:\n",
    "    use_aug = False\n",
    "    num_classes = 264\n",
    "    batch_size = 64\n",
    "    epochs = 12\n",
    "    PRECISION = 16    \n",
    "    PATIENCE = 8    \n",
    "    seed = 2023\n",
    "    model = \"tf_efficientnet_b0_ns\"\n",
    "    pretrained = True            \n",
    "    weight_decay = 1e-3\n",
    "    use_mixup = True\n",
    "    mixup_alpha = 0.2   \n",
    "    DEVICE = torch.device('cuda' if torch.cuda.is_available() else 'cpu')    \n",
    "\n",
    "    data_root = \"../data/\"\n",
    "    train_images = data_root+\"specs/train/\"\n",
    "    valid_images = data_root + \"specs/valid/\"\n",
    "    train_path = data_root+\"train.csv\"\n",
    "    valid_path = data_root+\"valid.csv\"\n",
    "    \n",
    "    \n",
    "    SR = 32000\n",
    "    DURATION = 5\n",
    "    MAX_READ_SAMPLES = 5\n",
    "    LR = 5e-4"
   ]
  },
  {
   "cell_type": "code",
   "execution_count": 125,
   "id": "981afe36-bf82-4ec4-9f13-9511c348e388",
   "metadata": {},
   "outputs": [
    {
     "name": "stderr",
     "output_type": "stream",
     "text": [
      "Seed set to 2023\n"
     ]
    },
    {
     "data": {
      "text/plain": [
       "2023"
      ]
     },
     "execution_count": 125,
     "metadata": {},
     "output_type": "execute_result"
    }
   ],
   "source": [
    "pl.seed_everything(Config.seed, workers=True)"
   ]
  },
  {
   "cell_type": "code",
   "execution_count": 126,
   "id": "6520a30b-fadd-449f-891e-6ee9aa82a6b5",
   "metadata": {},
   "outputs": [],
   "source": [
    "def config_to_dict(cfg):\n",
    "    return dict((name, getattr(cfg, name)) for name in dir(cfg) if not name.startswith('__'))"
   ]
  },
  {
   "cell_type": "code",
   "execution_count": 127,
   "id": "952331fc-e561-450f-b28e-cf9d639d32d4",
   "metadata": {},
   "outputs": [
    {
     "data": {
      "text/html": [
       "<div>\n",
       "<style scoped>\n",
       "    .dataframe tbody tr th:only-of-type {\n",
       "        vertical-align: middle;\n",
       "    }\n",
       "\n",
       "    .dataframe tbody tr th {\n",
       "        vertical-align: top;\n",
       "    }\n",
       "\n",
       "    .dataframe thead th {\n",
       "        text-align: right;\n",
       "    }\n",
       "</style>\n",
       "<table border=\"1\" class=\"dataframe\">\n",
       "  <thead>\n",
       "    <tr style=\"text-align: right;\">\n",
       "      <th></th>\n",
       "      <th>primary_label</th>\n",
       "      <th>secondary_labels</th>\n",
       "      <th>type</th>\n",
       "      <th>latitude</th>\n",
       "      <th>longitude</th>\n",
       "      <th>scientific_name</th>\n",
       "      <th>common_name</th>\n",
       "      <th>author</th>\n",
       "      <th>license</th>\n",
       "      <th>rating</th>\n",
       "      <th>url</th>\n",
       "      <th>filename</th>\n",
       "      <th>len_sec_labels</th>\n",
       "      <th>path</th>\n",
       "      <th>frames</th>\n",
       "      <th>sr</th>\n",
       "      <th>duration</th>\n",
       "    </tr>\n",
       "  </thead>\n",
       "  <tbody>\n",
       "    <tr>\n",
       "      <th>0</th>\n",
       "      <td>litegr</td>\n",
       "      <td>[]</td>\n",
       "      <td>['alarm call', 'flight call']</td>\n",
       "      <td>43.8559</td>\n",
       "      <td>1.7856</td>\n",
       "      <td>Egretta garzetta</td>\n",
       "      <td>Little Egret</td>\n",
       "      <td>Cedric Mroczko</td>\n",
       "      <td>Creative Commons Attribution-NonCommercial-Sha...</td>\n",
       "      <td>4.0</td>\n",
       "      <td>https://www.xeno-canto.org/576994</td>\n",
       "      <td>litegr/XC576994.ogg</td>\n",
       "      <td>0</td>\n",
       "      <td>../data/train_audio/litegr/XC576994.ogg</td>\n",
       "      <td>194769</td>\n",
       "      <td>32000</td>\n",
       "      <td>6.086531</td>\n",
       "    </tr>\n",
       "    <tr>\n",
       "      <th>1</th>\n",
       "      <td>spodov</td>\n",
       "      <td>['houspa', 'rewbul']</td>\n",
       "      <td>['song']</td>\n",
       "      <td>-20.4338</td>\n",
       "      <td>57.4578</td>\n",
       "      <td>Streptopelia chinensis</td>\n",
       "      <td>Spotted Dove</td>\n",
       "      <td>Cedric Mroczko</td>\n",
       "      <td>Creative Commons Attribution-NonCommercial-Sha...</td>\n",
       "      <td>3.5</td>\n",
       "      <td>https://www.xeno-canto.org/463317</td>\n",
       "      <td>spodov/XC463317.ogg</td>\n",
       "      <td>2</td>\n",
       "      <td>../data/train_audio/spodov/XC463317.ogg</td>\n",
       "      <td>130560</td>\n",
       "      <td>32000</td>\n",
       "      <td>4.080000</td>\n",
       "    </tr>\n",
       "    <tr>\n",
       "      <th>2</th>\n",
       "      <td>comsan</td>\n",
       "      <td>[]</td>\n",
       "      <td>['']</td>\n",
       "      <td>43.5652</td>\n",
       "      <td>4.5811</td>\n",
       "      <td>Actitis hypoleucos</td>\n",
       "      <td>Common Sandpiper</td>\n",
       "      <td>Manceau Lionel</td>\n",
       "      <td>Creative Commons Attribution-NonCommercial-Sha...</td>\n",
       "      <td>5.0</td>\n",
       "      <td>https://xeno-canto.org/764652</td>\n",
       "      <td>comsan/XC764652.ogg</td>\n",
       "      <td>0</td>\n",
       "      <td>../data/train_audio/comsan/XC764652.ogg</td>\n",
       "      <td>604416</td>\n",
       "      <td>32000</td>\n",
       "      <td>18.888000</td>\n",
       "    </tr>\n",
       "    <tr>\n",
       "      <th>3</th>\n",
       "      <td>eaywag1</td>\n",
       "      <td>[]</td>\n",
       "      <td>['flight call']</td>\n",
       "      <td>53.5337</td>\n",
       "      <td>-1.7832</td>\n",
       "      <td>Motacilla flava</td>\n",
       "      <td>Western Yellow Wagtail</td>\n",
       "      <td>David Pennington</td>\n",
       "      <td>Creative Commons Attribution-NonCommercial-Sha...</td>\n",
       "      <td>4.0</td>\n",
       "      <td>http://xeno-canto.org/675728</td>\n",
       "      <td>eaywag1/XC675728.ogg</td>\n",
       "      <td>0</td>\n",
       "      <td>../data/train_audio/eaywag1/XC675728.ogg</td>\n",
       "      <td>733936</td>\n",
       "      <td>32000</td>\n",
       "      <td>22.935500</td>\n",
       "    </tr>\n",
       "    <tr>\n",
       "      <th>4</th>\n",
       "      <td>greegr</td>\n",
       "      <td>[]</td>\n",
       "      <td>['flight call', 'life stage uncertain', 'sex u...</td>\n",
       "      <td>51.8056</td>\n",
       "      <td>16.6515</td>\n",
       "      <td>Ardea alba</td>\n",
       "      <td>Great Egret</td>\n",
       "      <td>Grzegorz Lorek</td>\n",
       "      <td>Creative Commons Attribution-NonCommercial-Sha...</td>\n",
       "      <td>3.0</td>\n",
       "      <td>http://xeno-canto.org/678629</td>\n",
       "      <td>greegr/XC678629.ogg</td>\n",
       "      <td>0</td>\n",
       "      <td>../data/train_audio/greegr/XC678629.ogg</td>\n",
       "      <td>195072</td>\n",
       "      <td>32000</td>\n",
       "      <td>6.096000</td>\n",
       "    </tr>\n",
       "  </tbody>\n",
       "</table>\n",
       "</div>"
      ],
      "text/plain": [
       "  primary_label      secondary_labels  \\\n",
       "0        litegr                    []   \n",
       "1        spodov  ['houspa', 'rewbul']   \n",
       "2        comsan                    []   \n",
       "3       eaywag1                    []   \n",
       "4        greegr                    []   \n",
       "\n",
       "                                                type  latitude  longitude  \\\n",
       "0                      ['alarm call', 'flight call']   43.8559     1.7856   \n",
       "1                                           ['song']  -20.4338    57.4578   \n",
       "2                                               ['']   43.5652     4.5811   \n",
       "3                                    ['flight call']   53.5337    -1.7832   \n",
       "4  ['flight call', 'life stage uncertain', 'sex u...   51.8056    16.6515   \n",
       "\n",
       "          scientific_name             common_name            author  \\\n",
       "0        Egretta garzetta            Little Egret    Cedric Mroczko   \n",
       "1  Streptopelia chinensis            Spotted Dove    Cedric Mroczko   \n",
       "2      Actitis hypoleucos        Common Sandpiper    Manceau Lionel   \n",
       "3         Motacilla flava  Western Yellow Wagtail  David Pennington   \n",
       "4              Ardea alba             Great Egret    Grzegorz Lorek   \n",
       "\n",
       "                                             license  rating  \\\n",
       "0  Creative Commons Attribution-NonCommercial-Sha...     4.0   \n",
       "1  Creative Commons Attribution-NonCommercial-Sha...     3.5   \n",
       "2  Creative Commons Attribution-NonCommercial-Sha...     5.0   \n",
       "3  Creative Commons Attribution-NonCommercial-Sha...     4.0   \n",
       "4  Creative Commons Attribution-NonCommercial-Sha...     3.0   \n",
       "\n",
       "                                 url              filename  len_sec_labels  \\\n",
       "0  https://www.xeno-canto.org/576994   litegr/XC576994.ogg               0   \n",
       "1  https://www.xeno-canto.org/463317   spodov/XC463317.ogg               2   \n",
       "2      https://xeno-canto.org/764652   comsan/XC764652.ogg               0   \n",
       "3       http://xeno-canto.org/675728  eaywag1/XC675728.ogg               0   \n",
       "4       http://xeno-canto.org/678629   greegr/XC678629.ogg               0   \n",
       "\n",
       "                                       path  frames     sr   duration  \n",
       "0   ../data/train_audio/litegr/XC576994.ogg  194769  32000   6.086531  \n",
       "1   ../data/train_audio/spodov/XC463317.ogg  130560  32000   4.080000  \n",
       "2   ../data/train_audio/comsan/XC764652.ogg  604416  32000  18.888000  \n",
       "3  ../data/train_audio/eaywag1/XC675728.ogg  733936  32000  22.935500  \n",
       "4   ../data/train_audio/greegr/XC678629.ogg  195072  32000   6.096000  "
      ]
     },
     "execution_count": 127,
     "metadata": {},
     "output_type": "execute_result"
    }
   ],
   "source": [
    "df_train = pd.read_csv(Config.train_path)\n",
    "df_valid = pd.read_csv(Config.valid_path)\n",
    "df_train.head()"
   ]
  },
  {
   "cell_type": "code",
   "execution_count": 128,
   "id": "10e6f989-adf9-44f6-881a-6d66624e3fd4",
   "metadata": {},
   "outputs": [],
   "source": [
    "Config.num_classes = len(df_train.primary_label.unique())"
   ]
  },
  {
   "cell_type": "code",
   "execution_count": 129,
   "id": "3463c545-fd90-4150-9197-7033ed902df9",
   "metadata": {},
   "outputs": [],
   "source": [
    "df_train = pd.concat([df_train, pd.get_dummies(df_train['primary_label'])], axis=1)\n",
    "df_valid = pd.concat([df_valid, pd.get_dummies(df_valid['primary_label'])], axis=1)\n",
    "\n",
    "# Take a subset \n",
    "# df_train = df_train.sample(n=100)\n",
    "# df_valid = df_valid.sample(n=100)"
   ]
  },
  {
   "cell_type": "code",
   "execution_count": 130,
   "id": "cd23acc4-6fcd-4e4d-a512-9078a2b9920e",
   "metadata": {},
   "outputs": [],
   "source": [
    "birds = list(df_train.primary_label.unique())\n",
    "missing_birds = list(set(list(df_train.primary_label.unique())).difference(list(df_valid.primary_label.unique())))"
   ]
  },
  {
   "cell_type": "code",
   "execution_count": 131,
   "id": "fe79e0b2-f90a-4054-83e8-3fdce2a59c55",
   "metadata": {},
   "outputs": [],
   "source": [
    "non_missing_birds = list(set(list(df_train.primary_label.unique())).difference(missing_birds))"
   ]
  },
  {
   "cell_type": "code",
   "execution_count": 132,
   "id": "d965f783-1788-4312-9d0d-26c5811e4be6",
   "metadata": {},
   "outputs": [
    {
     "data": {
      "text/plain": [
       "182"
      ]
     },
     "execution_count": 132,
     "metadata": {},
     "output_type": "execute_result"
    }
   ],
   "source": [
    "len(non_missing_birds)"
   ]
  },
  {
   "cell_type": "code",
   "execution_count": 133,
   "id": "e43ce476-42a6-4c77-9429-dc9134065a76",
   "metadata": {},
   "outputs": [],
   "source": [
    "df_valid[missing_birds] = 0\n",
    "df_valid = df_valid[df_train.columns] ## Fix order"
   ]
  },
  {
   "cell_type": "code",
   "execution_count": 134,
   "id": "8e11b71f-09c2-4bb6-81d3-7c7d1faca96e",
   "metadata": {},
   "outputs": [],
   "source": [
    "import albumentations as A\n",
    "def get_train_transform():\n",
    "    return A.Compose([\n",
    "        A.HorizontalFlip(p=0.5),\n",
    "        A.OneOf([\n",
    "                A.Cutout(max_h_size=5, max_w_size=16),\n",
    "                A.CoarseDropout(max_holes=4),\n",
    "            ], p=0.5),\n",
    "    ])"
   ]
  },
  {
   "cell_type": "code",
   "execution_count": 135,
   "id": "042260d0-1799-4b3e-a4fc-ea5264f1cebd",
   "metadata": {},
   "outputs": [],
   "source": [
    "class BirdDataset(torch.utils.data.Dataset):\n",
    "\n",
    "    def __init__(self, df, sr = Config.SR, duration = Config.DURATION, augmentations = None, train = True):\n",
    "\n",
    "        self.df = df\n",
    "        self.sr = sr \n",
    "        self.train = train\n",
    "        self.duration = duration\n",
    "        self.augmentations = augmentations\n",
    "        if train:\n",
    "            self.img_dir = Config.train_images\n",
    "        else:\n",
    "            self.img_dir = Config.valid_images\n",
    "\n",
    "    def __len__(self):\n",
    "        return len(self.df)\n",
    "\n",
    "    @staticmethod\n",
    "    def normalize(image):\n",
    "        image = image / 255.0\n",
    "        #image = torch.stack([image, image, image])\n",
    "        return image\n",
    "\n",
    "    def __getitem__(self, idx):\n",
    "\n",
    "        row = self.df.iloc[idx]\n",
    "        impath = self.img_dir + f\"{row.filename}.npy\"\n",
    "\n",
    "        image = np.load(str(impath))[:Config.MAX_READ_SAMPLES]\n",
    "        \n",
    "        ########## RANDOM SAMPLING ################\n",
    "        if self.train:\n",
    "            image = image[np.random.choice(len(image))]\n",
    "        else:\n",
    "            image = image[0]\n",
    "            \n",
    "        #####################################################################\n",
    "        \n",
    "        image = torch.tensor(image).float()\n",
    "\n",
    "        if self.augmentations:\n",
    "            image = self.augmentations(image.unsqueeze(0)).squeeze()\n",
    "            \n",
    "        image.size()\n",
    "        \n",
    "        image = torch.stack([image, image, image])\n",
    "\n",
    "        image = self.normalize(image)\n",
    "\n",
    "\n",
    "        return image, torch.tensor(row[17:]).float()"
   ]
  },
  {
   "cell_type": "code",
   "execution_count": 136,
   "id": "3380ddff-ffc2-41da-aaa1-48894027ffcd",
   "metadata": {},
   "outputs": [],
   "source": [
    "def get_fold_dls(df_train, df_valid):\n",
    "\n",
    "    ds_train = BirdDataset(\n",
    "        df_train, \n",
    "        sr = Config.SR,\n",
    "        duration = Config.DURATION,\n",
    "        augmentations = None,\n",
    "        train = True\n",
    "    )\n",
    "    ds_val = BirdDataset(\n",
    "        df_valid, \n",
    "        sr = Config.SR,\n",
    "        duration = Config.DURATION,\n",
    "        augmentations = None,\n",
    "        train = False\n",
    "    )\n",
    "    dl_train = DataLoader(ds_train, batch_size=Config.batch_size , shuffle=True, num_workers = 2)    \n",
    "    dl_val = DataLoader(ds_val, batch_size=Config.batch_size, num_workers = 2)\n",
    "    return dl_train, dl_val, ds_train, ds_val"
   ]
  },
  {
   "cell_type": "code",
   "execution_count": 137,
   "id": "f74370a2-02f0-44c8-900b-76b4eb7c2eab",
   "metadata": {},
   "outputs": [],
   "source": [
    "def show_batch(img_ds, num_items, num_rows, num_cols, predict_arr=None):\n",
    "    fig = plt.figure(figsize=(12, 6))    \n",
    "    img_index = np.random.randint(0, len(img_ds)-1, num_items)\n",
    "    for index, img_index in enumerate(img_index):  # list first 9 images\n",
    "        img, lb = img_ds[img_index]        \n",
    "        ax = fig.add_subplot(num_rows, num_cols, index + 1, xticks=[], yticks=[])\n",
    "        if isinstance(img, torch.Tensor):\n",
    "            img = img.detach().numpy()\n",
    "        if isinstance(img, np.ndarray):\n",
    "            img = img.transpose(1, 2, 0)\n",
    "            ax.imshow(img)        \n",
    "            \n",
    "        title = f\"Spec\"\n",
    "        ax.set_title(title)  "
   ]
  },
  {
   "cell_type": "code",
   "execution_count": 138,
   "id": "58090222-83b2-4498-b6e3-5276f58c21f3",
   "metadata": {},
   "outputs": [
    {
     "data": {
      "image/png": "[encoded data removed]",
      "text/plain": [
       "<Figure size 1200x600 with 8 Axes>"
      ]
     },
     "metadata": {},
     "output_type": "display_data"
    }
   ],
   "source": [
    "dl_train, dl_val, ds_train, ds_val = get_fold_dls(df_train, df_valid)\n",
    "show_batch(ds_val, 8, 2, 4)"
   ]
  },
  {
   "cell_type": "code",
   "execution_count": 139,
   "id": "cfffa951-fcb1-4391-8d0d-a0589fa19f00",
   "metadata": {},
   "outputs": [],
   "source": [
    "from torch.optim.lr_scheduler import CosineAnnealingLR, CosineAnnealingWarmRestarts, ReduceLROnPlateau, OneCycleLR\n",
    "\n",
    "def get_optimizer(lr, params):\n",
    "    model_optimizer = torch.optim.Adam(\n",
    "            filter(lambda p: p.requires_grad, params), \n",
    "            lr=lr,\n",
    "            weight_decay=Config.weight_decay\n",
    "        )\n",
    "    interval = \"epoch\"\n",
    "    \n",
    "    lr_scheduler = CosineAnnealingWarmRestarts(\n",
    "                            model_optimizer, \n",
    "                            T_0=Config.epochs, \n",
    "                            T_mult=1, \n",
    "                            eta_min=1e-6, \n",
    "                            last_epoch=-1\n",
    "                        )\n",
    "\n",
    "    return {\n",
    "        \"optimizer\": model_optimizer, \n",
    "        \"lr_scheduler\": {\n",
    "            \"scheduler\": lr_scheduler,\n",
    "            \"interval\": interval,\n",
    "            \"monitor\": \"val_loss\",\n",
    "            \"frequency\": 1\n",
    "        }\n",
    "    }"
   ]
  },
  {
   "cell_type": "code",
   "execution_count": 140,
   "id": "3ef41fc3-5708-467e-803d-ad11963db323",
   "metadata": {},
   "outputs": [],
   "source": [
    "from torchtoolbox.tools import mixup_data, mixup_criterion\n",
    "import torch.nn as nn\n",
    "from torch.nn.functional import cross_entropy\n",
    "import torchmetrics\n",
    "import timm"
   ]
  },
  {
   "cell_type": "code",
   "execution_count": 141,
   "id": "c2df4092-c220-4396-b303-4f4894565ac5",
   "metadata": {},
   "outputs": [],
   "source": [
    "import sklearn.metrics\n",
    "\n",
    "def padded_cmap(solution, submission, padding_factor=5):\n",
    "    solution = solution#.drop(['row_id'], axis=1, errors='ignore')\n",
    "    submission = submission#.drop(['row_id'], axis=1, errors='ignore')\n",
    "    new_rows = []\n",
    "    for i in range(padding_factor):\n",
    "        new_rows.append([1 for i in range(len(solution.columns))])\n",
    "    new_rows = pd.DataFrame(new_rows)\n",
    "    new_rows.columns = solution.columns\n",
    "    padded_solution = pd.concat([solution, new_rows]).reset_index(drop=True).copy()\n",
    "    padded_submission = pd.concat([submission, new_rows]).reset_index(drop=True).copy()\n",
    "    score = sklearn.metrics.average_precision_score(\n",
    "        padded_solution.values,\n",
    "        padded_submission.values,\n",
    "        average='macro',\n",
    "    )\n",
    "    return score\n",
    "\n",
    "def map_score(solution, submission):\n",
    "    solution = solution#.drop(['row_id'], axis=1, errors='ignore')\n",
    "    submission = submission#.drop(['row_id'], axis=1, errors='ignore')\n",
    "    score = sklearn.metrics.average_precision_score(\n",
    "        solution.values,\n",
    "        submission.values,\n",
    "        average='micro',\n",
    "    )\n",
    "    return score"
   ]
  },
  {
   "cell_type": "code",
   "execution_count": 142,
   "id": "8f06b038-a678-4a4a-8248-0bbab444819f",
   "metadata": {},
   "outputs": [],
   "source": [
    "dummy = df_valid[birds].copy()\n",
    "dummy[birds] = np.random.rand(dummy.shape[0],dummy.shape[1])"
   ]
  },
  {
   "cell_type": "code",
   "execution_count": 143,
   "id": "e6e17e99-0de0-4b7d-a01f-a1387b9697b6",
   "metadata": {},
   "outputs": [
    {
     "data": {
      "text/plain": [
       "0.3332633701672569"
      ]
     },
     "execution_count": 143,
     "metadata": {},
     "output_type": "execute_result"
    }
   ],
   "source": [
    "padded_cmap(df_valid[birds], dummy[birds], padding_factor = 5)"
   ]
  },
  {
   "cell_type": "code",
   "execution_count": 144,
   "id": "0743d8c6-5fbe-4d86-b0fb-3122b87a4477",
   "metadata": {},
   "outputs": [
    {
     "data": {
      "text/plain": [
       "0.12254522425018703"
      ]
     },
     "execution_count": 144,
     "metadata": {},
     "output_type": "execute_result"
    }
   ],
   "source": [
    "padded_cmap(df_valid[birds], dummy[birds], padding_factor = 1)"
   ]
  },
  {
   "cell_type": "code",
   "execution_count": 145,
   "id": "05d4890d-980a-48ff-982c-e70c5dd5f3ce",
   "metadata": {},
   "outputs": [],
   "source": [
    "# map_score(df_valid[birds], dummy[birds])"
   ]
  },
  {
   "cell_type": "code",
   "execution_count": 146,
   "id": "cb943647-4a26-4c34-a647-a9ffd320e85f",
   "metadata": {},
   "outputs": [
    {
     "data": {
      "text/plain": [
       "182"
      ]
     },
     "execution_count": 146,
     "metadata": {},
     "output_type": "execute_result"
    }
   ],
   "source": [
    "Config.num_classes"
   ]
  },
  {
   "cell_type": "code",
   "execution_count": 147,
   "id": "a2a32a6b-d597-452c-b823-94ba668ec7c7",
   "metadata": {},
   "outputs": [],
   "source": [
    "class BirdClefModel(pl.LightningModule):\n",
    "    def __init__(self, model_name=Config.model, num_classes = Config.num_classes, pretrained = Config.pretrained):\n",
    "        super().__init__()\n",
    "        self.num_classes = num_classes\n",
    "\n",
    "        self.backbone = timm.create_model(model_name, pretrained=pretrained)\n",
    "\n",
    "        if 'res' in model_name:\n",
    "            self.in_features = self.backbone.fc.in_features\n",
    "            self.backbone.fc = nn.Linear(self.in_features, num_classes)\n",
    "        elif 'dense' in model_name:\n",
    "            self.in_features = self.backbone.classifier.in_features\n",
    "            self.backbone.classifier = nn.Linear(self.in_features, num_classes)\n",
    "        elif 'efficientnet' in model_name:\n",
    "            self.in_features = self.backbone.classifier.in_features\n",
    "            self.backbone.classifier = nn.Sequential(\n",
    "                nn.Linear(self.in_features, num_classes)\n",
    "            )\n",
    "        \n",
    "        self.loss_function = nn.BCEWithLogitsLoss() \n",
    "\n",
    "    def forward(self,images):\n",
    "        logits = self.backbone(images)\n",
    "        return logits\n",
    "        \n",
    "    def configure_optimizers(self):\n",
    "        return get_optimizer(lr=Config.LR, params=self.parameters())\n",
    "\n",
    "    def train_with_mixup(self, X, y):\n",
    "        X, y_a, y_b, lam = mixup_data(X, y, alpha=Config.mixup_alpha)\n",
    "        y_pred = self(X)\n",
    "        loss_mixup = mixup_criterion(cross_entropy, y_pred, y_a, y_b, lam)\n",
    "        return loss_mixup\n",
    "\n",
    "    def training_step(self, batch, batch_idx):\n",
    "        image, target = batch        \n",
    "        if Config.use_mixup:\n",
    "            loss = self.train_with_mixup(image, target)\n",
    "        else:\n",
    "            y_pred = self(image)\n",
    "            loss = self.loss_function(y_pred,target)\n",
    "\n",
    "        self.log(\"train_loss\", loss, on_step=True, on_epoch=True, prog_bar=True)\n",
    "        return loss        \n",
    "\n",
    "    def validation_step(self, batch, batch_idx):\n",
    "        image, target = batch     \n",
    "        y_pred = self(image)\n",
    "        val_loss = self.loss_function(y_pred, target)\n",
    "        self.log(\"val_loss\", val_loss, on_step=True, on_epoch=True, logger=True, prog_bar=True)\n",
    "        \n",
    "        return {\"val_loss\": val_loss, \"logits\": y_pred, \"targets\": target}\n",
    "    \n",
    "    def train_dataloader(self):\n",
    "        return self._train_dataloader \n",
    "    \n",
    "    def validation_dataloader(self):\n",
    "        return self._validation_dataloader\n",
    "    \n",
    "    def on_validation_batch_end(self, outputs, batch, batch_idx, dataloader_idx=0):\n",
    "        if batch_idx == 0:\n",
    "            self._logits = []\n",
    "            self._targets = []\n",
    "            self._val_loss = []\n",
    "\n",
    "        self._logits.append(outputs[\"logits\"])\n",
    "        self._targets.append(outputs[\"targets\"])\n",
    "        self._val_loss.append(outputs[\"val_loss\"])\n",
    "\n",
    "    def on_validation_epoch_end(self):\n",
    "        output_val = torch.cat(self._logits, dim=0).sigmoid().cpu().detach().numpy()\n",
    "        target_val = torch.cat(self._targets, dim=0).cpu().detach().numpy()\n",
    "        avg_loss = torch.stack(self._val_loss).mean()\n",
    "\n",
    "        # print(output_val.shape)\n",
    "        val_df = pd.DataFrame(target_val, columns = birds)\n",
    "        pred_df = pd.DataFrame(output_val, columns = birds)\n",
    "        \n",
    "        avg_score = padded_cmap(val_df, pred_df, padding_factor = 5)\n",
    "        avg_score2 = padded_cmap(val_df, pred_df, padding_factor = 3)\n",
    "        avg_score3 = sklearn.metrics.label_ranking_average_precision_score(target_val,output_val)\n",
    "        \n",
    "#         competition_metrics(output_val,target_val)\n",
    "        print(f'epoch {self.current_epoch} validation loss {avg_loss}')\n",
    "        print(f'epoch {self.current_epoch} validation C-MAP score pad 5 {avg_score}')\n",
    "        print(f'epoch {self.current_epoch} validation C-MAP score pad 3 {avg_score2}')\n",
    "        print(f'epoch {self.current_epoch} validation AP score {avg_score3}')\n",
    "        \n",
    "        \n",
    "        val_df.to_pickle('val_df.pkl')\n",
    "        pred_df.to_pickle('pred_df.pkl')\n",
    "        \n",
    "        \n",
    "        return {'val_loss': avg_loss,'val_cmap':avg_score}"
   ]
  },
  {
   "cell_type": "code",
   "execution_count": 148,
   "id": "ff510b83-7084-4d33-8414-82c501493443",
   "metadata": {},
   "outputs": [],
   "source": [
    "from pytorch_lightning.loggers import WandbLogger\n",
    "import gc\n",
    "\n",
    "def run_training():\n",
    "    print(f\"Running training...\")\n",
    "    logger = None\n",
    "    \n",
    "    \n",
    "    dl_train, dl_val, ds_train, ds_val = get_fold_dls(df_train, df_valid)\n",
    "    \n",
    "    audio_model = BirdClefModel()\n",
    "\n",
    "    early_stop_callback = EarlyStopping(monitor=\"val_loss\", min_delta=0.00, patience=Config.PATIENCE, verbose= True, mode=\"min\")\n",
    "    checkpoint_callback = ModelCheckpoint(monitor='val_loss',\n",
    "                                      dirpath= \"exp1/\",\n",
    "                                      save_top_k=1,\n",
    "                                      save_last= True,\n",
    "                                      save_weights_only=True,\n",
    "                                      filename= f'./{Config.model}_loss',\n",
    "                                      verbose= True,\n",
    "                                      mode='min')\n",
    "    \n",
    "    callbacks_to_use = [checkpoint_callback,early_stop_callback]\n",
    "\n",
    "\n",
    "    trainer = pl.Trainer(\n",
    "        val_check_interval=0.5,\n",
    "        deterministic=True,\n",
    "        max_epochs=Config.epochs,\n",
    "        logger=logger,\n",
    "        callbacks=callbacks_to_use,\n",
    "        precision=Config.PRECISION, accelerator=\"gpu\" \n",
    "    )\n",
    "\n",
    "    print(\"Running trainer.fit\")\n",
    "    trainer.fit(audio_model, train_dataloaders = dl_train, val_dataloaders = dl_val)                \n",
    "\n",
    "    gc.collect()\n",
    "    torch.cuda.empty_cache()"
   ]
  },
  {
   "cell_type": "code",
   "execution_count": null,
   "id": "5c8901bb-f325-4670-90c1-62d79be1c2f7",
   "metadata": {},
   "outputs": [
    {
     "name": "stderr",
     "output_type": "stream",
     "text": [
      "Using 16bit Automatic Mixed Precision (AMP)\n",
      "GPU available: True (cuda), used: True\n",
      "TPU available: False, using: 0 TPU cores\n",
      "IPU available: False, using: 0 IPUs\n",
      "HPU available: False, using: 0 HPUs\n",
      "LOCAL_RANK: 0 - CUDA_VISIBLE_DEVICES: [0]\n"
     ]
    },
    {
     "name": "stdout",
     "output_type": "stream",
     "text": [
      "Running training...\n",
      "Running trainer.fit\n"
     ]
    },
    {
     "name": "stderr",
     "output_type": "stream",
     "text": [
      "\n",
      "  | Name          | Type              | Params\n",
      "----------------------------------------------------\n",
      "0 | backbone      | EfficientNet      | 4.2 M \n",
      "1 | loss_function | BCEWithLogitsLoss | 0     \n",
      "----------------------------------------------------\n",
      "4.2 M     Trainable params\n",
      "0         Non-trainable params\n",
      "4.2 M     Total params\n",
      "16.963    Total estimated model params size (MB)\n"
     ]
    },
    {
     "data": {
      "application/vnd.jupyter.widget-view+json": {
       "model_id": "",
       "version_major": 2,
       "version_minor": 0
      },
      "text/plain": [
       "Sanity Checking: |          | 0/? [00:00<?, ?it/s]"
      ]
     },
     "metadata": {},
     "output_type": "display_data"
    },
    {
     "name": "stdout",
     "output_type": "stream",
     "text": [
      "epoch 0 validation loss 0.6952077150344849\n",
      "epoch 0 validation C-MAP score pad 5 0.9221682533144658\n",
      "epoch 0 validation C-MAP score pad 3 0.8871191406194113\n",
      "epoch 0 validation AP score 0.04731547881202585\n"
     ]
    },
    {
     "data": {
      "application/vnd.jupyter.widget-view+json": {
       "model_id": "15dcf483a9434420a8a6d9a6d5b3b147",
       "version_major": 2,
       "version_minor": 0
      },
      "text/plain": [
       "Training: |          | 0/? [00:00<?, ?it/s]"
      ]
     },
     "metadata": {},
     "output_type": "display_data"
    },
    {
     "data": {
      "application/vnd.jupyter.widget-view+json": {
       "model_id": "",
       "version_major": 2,
       "version_minor": 0
      },
      "text/plain": [
       "Validation: |          | 0/? [00:00<?, ?it/s]"
      ]
     },
     "metadata": {},
     "output_type": "display_data"
    },
    {
     "name": "stderr",
     "output_type": "stream",
     "text": [
      "Metric val_loss improved. New best score: 0.434\n",
      "Epoch 0, global step 153: 'val_loss' reached 0.43382 (best 0.43382), saving model to '/teamspace/studios/this_studio/kaggle-BirdCLEF-2024/notebooks/exp1/./tf_efficientnet_b0_ns_loss-v1.ckpt' as top 1\n"
     ]
    },
    {
     "name": "stdout",
     "output_type": "stream",
     "text": [
      "epoch 0 validation loss 0.4338940680027008\n",
      "epoch 0 validation C-MAP score pad 5 0.4972847569208346\n",
      "epoch 0 validation C-MAP score pad 3 0.41749413956763815\n",
      "epoch 0 validation AP score 0.5180287626270862\n"
     ]
    },
    {
     "data": {
      "application/vnd.jupyter.widget-view+json": {
       "model_id": "",
       "version_major": 2,
       "version_minor": 0
      },
      "text/plain": [
       "Validation: |          | 0/? [00:00<?, ?it/s]"
      ]
     },
     "metadata": {},
     "output_type": "display_data"
    },
    {
     "name": "stderr",
     "output_type": "stream",
     "text": [
      "Metric val_loss improved by 0.033 >= min_delta = 0.0. New best score: 0.401\n",
      "Epoch 0, global step 306: 'val_loss' reached 0.40117 (best 0.40117), saving model to '/teamspace/studios/this_studio/kaggle-BirdCLEF-2024/notebooks/exp1/./tf_efficientnet_b0_ns_loss-v1.ckpt' as top 1\n"
     ]
    },
    {
     "name": "stdout",
     "output_type": "stream",
     "text": [
      "epoch 0 validation loss 0.4008904695510864\n",
      "epoch 0 validation C-MAP score pad 5 0.6106969970573434\n",
      "epoch 0 validation C-MAP score pad 3 0.5396861429110416\n",
      "epoch 0 validation AP score 0.6380052829125826\n"
     ]
    },
    {
     "data": {
      "application/vnd.jupyter.widget-view+json": {
       "model_id": "",
       "version_major": 2,
       "version_minor": 0
      },
      "text/plain": [
       "Validation: |          | 0/? [00:00<?, ?it/s]"
      ]
     },
     "metadata": {},
     "output_type": "display_data"
    },
    {
     "name": "stderr",
     "output_type": "stream",
     "text": [
      "Epoch 1, global step 459: 'val_loss' was not in top 1\n"
     ]
    },
    {
     "name": "stdout",
     "output_type": "stream",
     "text": [
      "epoch 1 validation loss 0.41336536407470703\n",
      "epoch 1 validation C-MAP score pad 5 0.6506382225496936\n",
      "epoch 1 validation C-MAP score pad 3 0.5844440168885726\n",
      "epoch 1 validation AP score 0.6816730808079032\n"
     ]
    },
    {
     "data": {
      "application/vnd.jupyter.widget-view+json": {
       "model_id": "",
       "version_major": 2,
       "version_minor": 0
      },
      "text/plain": [
       "Validation: |          | 0/? [00:00<?, ?it/s]"
      ]
     },
     "metadata": {},
     "output_type": "display_data"
    },
    {
     "name": "stderr",
     "output_type": "stream",
     "text": [
      "Epoch 1, global step 612: 'val_loss' was not in top 1\n"
     ]
    },
    {
     "name": "stdout",
     "output_type": "stream",
     "text": [
      "epoch 1 validation loss 0.4042155146598816\n",
      "epoch 1 validation C-MAP score pad 5 0.6782785965014809\n",
      "epoch 1 validation C-MAP score pad 3 0.6158976690073296\n",
      "epoch 1 validation AP score 0.7123438047301782\n"
     ]
    },
    {
     "data": {
      "application/vnd.jupyter.widget-view+json": {
       "model_id": "",
       "version_major": 2,
       "version_minor": 0
      },
      "text/plain": [
       "Validation: |          | 0/? [00:00<?, ?it/s]"
      ]
     },
     "metadata": {},
     "output_type": "display_data"
    },
    {
     "name": "stderr",
     "output_type": "stream",
     "text": [
      "Epoch 2, global step 765: 'val_loss' was not in top 1\n"
     ]
    },
    {
     "name": "stdout",
     "output_type": "stream",
     "text": [
      "epoch 2 validation loss 0.4078773260116577\n",
      "epoch 2 validation C-MAP score pad 5 0.7053312299784102\n",
      "epoch 2 validation C-MAP score pad 3 0.646689604980499\n",
      "epoch 2 validation AP score 0.7400301375119842\n"
     ]
    },
    {
     "data": {
      "application/vnd.jupyter.widget-view+json": {
       "model_id": "",
       "version_major": 2,
       "version_minor": 0
      },
      "text/plain": [
       "Validation: |          | 0/? [00:00<?, ?it/s]"
      ]
     },
     "metadata": {},
     "output_type": "display_data"
    },
    {
     "name": "stderr",
     "output_type": "stream",
     "text": [
      "Epoch 2, global step 918: 'val_loss' was not in top 1\n"
     ]
    },
    {
     "name": "stdout",
     "output_type": "stream",
     "text": [
      "epoch 2 validation loss 0.40970149636268616\n",
      "epoch 2 validation C-MAP score pad 5 0.7149862548622246\n",
      "epoch 2 validation C-MAP score pad 3 0.6576995553459469\n",
      "epoch 2 validation AP score 0.744919019016502\n"
     ]
    }
   ],
   "source": [
    "run_training()"
   ]
  },
  {
   "cell_type": "code",
   "execution_count": null,
   "id": "be35f83b-a70c-43c0-8bb5-43beb9724ee4",
   "metadata": {},
   "outputs": [],
   "source": []
  }
 ],
 "metadata": {
  "kernelspec": {
   "display_name": "Python 3",
   "language": "python",
   "name": "python3"
  },
  "language_info": {
   "codemirror_mode": {
    "name": "ipython",
    "version": 3
   },
   "file_extension": ".py",
   "mimetype": "text/x-python",
   "name": "python",
   "nbconvert_exporter": "python",
   "pygments_lexer": "ipython3",
   "version": "3.10.10"
  }
 },
 "nbformat": 4,
 "nbformat_minor": 5
}
